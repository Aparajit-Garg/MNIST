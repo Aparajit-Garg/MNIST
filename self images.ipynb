{
 "cells": [
  {
   "cell_type": "code",
   "execution_count": 16,
   "metadata": {},
   "outputs": [],
   "source": [
    "from skimage import io\n",
    "from skimage import color\n",
    "import numpy as np"
   ]
  },
  {
   "cell_type": "code",
   "execution_count": 28,
   "metadata": {},
   "outputs": [
    {
     "name": "stdout",
     "output_type": "stream",
     "text": [
      "(28, 28)\n",
      "(28, 28)\n",
      "(28, 28)\n",
      "(28, 28)\n",
      "(28, 28)\n",
      "(28, 28)\n",
      "(28, 28)\n",
      "(28, 28)\n",
      "(28, 28)\n"
     ]
    }
   ],
   "source": [
    "img_0 = color.rgb2gray(io.imread(\"0.jpg\"))\n",
    "img_2 = color.rgb2gray(io.imread(\"2.jpg\"))\n",
    "img_3 = color.rgb2gray(io.imread(\"3.jpg\"))\n",
    "img_4 = color.rgb2gray(io.imread(\"4.jpg\"))\n",
    "img_5 = color.rgb2gray(io.imread(\"5.jpg\"))\n",
    "img_6 = color.rgb2gray(io.imread(\"6.jpg\"))\n",
    "img_7 = color.rgb2gray(io.imread(\"7.jpg\"))\n",
    "img_8 = color.rgb2gray(io.imread(\"8.jpg\"))\n",
    "img_9 = color.rgb2gray(io.imread(\"9.jpg\"))\n",
    "array = [img_0, img_2, img_3, img_4, img_5, img_6, img_7, img_8, img_9]\n",
    "for i in array:\n",
    "    print(i.shape)"
   ]
  },
  {
   "cell_type": "code",
   "execution_count": 39,
   "metadata": {},
   "outputs": [
    {
     "name": "stdout",
     "output_type": "stream",
     "text": [
      "(1, 28, 28)\n",
      "(1, 28, 28)\n",
      "(1, 28, 28)\n",
      "(1, 28, 28)\n",
      "(1, 28, 28)\n",
      "(1, 28, 28)\n",
      "(1, 28, 28)\n",
      "(1, 28, 28)\n",
      "(1, 28, 28)\n"
     ]
    }
   ],
   "source": [
    "import tensorflow as tf\n",
    "import keras\n",
    "\n",
    "#normalized the data between 0-1\n",
    "array = tf.keras.utils.normalize(array, axis = 1)\n",
    "y = [0,2,3,4,5,6,7,8,9]\n",
    "#used the loop to increase the dimensions of the input layer as 1,28,28 which will be converted into 1*784\n",
    "for i in array:\n",
    "    i = np.expand_dims(i,axis = 0)\n",
    "    print(i.shape)\n",
    "\n",
    "\n",
    "new_model = tf.keras.models.load_model('mnist_save.model')\n",
    "new_model.load_weights('mnist.model.weights.best.hdf5')\n",
    "predictions = new_model.predict(array)"
   ]
  },
  {
   "cell_type": "code",
   "execution_count": 40,
   "metadata": {},
   "outputs": [
    {
     "name": "stdout",
     "output_type": "stream",
     "text": [
      "3\n",
      "3\n",
      "8\n",
      "3\n",
      "8\n",
      "3\n",
      "8\n",
      "0\n",
      "8\n"
     ]
    }
   ],
   "source": [
    "for i in range(0,9):\n",
    "    print(np.argmax(predictions[i]))"
   ]
  },
  {
   "cell_type": "code",
   "execution_count": null,
   "metadata": {},
   "outputs": [],
   "source": []
  }
 ],
 "metadata": {
  "kernelspec": {
   "display_name": "Python 3",
   "language": "python",
   "name": "python3"
  },
  "language_info": {
   "codemirror_mode": {
    "name": "ipython",
    "version": 3
   },
   "file_extension": ".py",
   "mimetype": "text/x-python",
   "name": "python",
   "nbconvert_exporter": "python",
   "pygments_lexer": "ipython3",
   "version": "3.6.6"
  }
 },
 "nbformat": 4,
 "nbformat_minor": 2
}
